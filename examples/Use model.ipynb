{
 "cells": [
  {
   "cell_type": "code",
   "execution_count": 1,
   "metadata": {
    "ExecuteTime": {
     "end_time": "2018-03-26T08:58:50.309214Z",
     "start_time": "2018-03-26T08:58:49.035486Z"
    }
   },
   "outputs": [
    {
     "name": "stderr",
     "output_type": "stream",
     "text": [
      "/root/anaconda3/lib/python3.6/site-packages/h5py/__init__.py:36: FutureWarning: Conversion of the second argument of issubdtype from `float` to `np.floating` is deprecated. In future, it will be treated as `np.float64 == np.dtype(float).type`.\n",
      "  from ._conv import register_converters as _register_converters\n",
      "Using TensorFlow backend.\n"
     ]
    }
   ],
   "source": [
    "import os\n",
    "import keras\n",
    "\n",
    "import keras_rcnn.datasets.shape\n",
    "import keras_rcnn.models\n",
    "import keras_rcnn.preprocessing\n",
    "import numpy \n",
    "from keras_rcnn import utils\n",
    "from keras_rcnn.datasets import dsb2018\n",
    "from keras.callbacks import EarlyStopping, ReduceLROnPlateau, ModelCheckpoint, TensorBoard\n",
    "\n",
    "%matplotlib inline\n",
    "training_dictionary, test_dictionary = dsb2018.load_data()\n"
   ]
  },
  {
   "cell_type": "code",
   "execution_count": 2,
   "metadata": {
    "ExecuteTime": {
     "end_time": "2018-03-26T08:58:50.354405Z",
     "start_time": "2018-03-26T08:58:50.310397Z"
    }
   },
   "outputs": [
    {
     "name": "stderr",
     "output_type": "stream",
     "text": [
      "/root/anaconda3/lib/python3.6/site-packages/skimage/transform/_warps.py:84: UserWarning: The default mode, 'constant', will be changed to 'reflect' in skimage 0.15.\n",
      "  warn(\"The default mode, 'constant', will be changed to 'reflect' in \"\n"
     ]
    }
   ],
   "source": [
    "\n",
    "# Very important ! Categories names must match those of the dataset.\n",
    "categories = {\"nucleus\": 1}\n",
    "\n",
    "generator = keras_rcnn.preprocessing.ObjectDetectionGenerator()\n",
    "\n",
    "generator = generator.flow_from_dictionary(\n",
    "    dictionary=training_dictionary,\n",
    "    categories=categories,\n",
    "    target_size=(224, 224)\n",
    ")\n",
    "\n",
    "validation_data = keras_rcnn.preprocessing.ObjectDetectionGenerator()\n",
    "\n",
    "validation_data = validation_data.flow_from_dictionary(\n",
    "    dictionary=test_dictionary,\n",
    "    categories=categories,\n",
    "    target_size=(224, 224)\n",
    ")\n",
    "\n",
    "target, _ = generator.next()\n",
    "\n",
    "target_bounding_boxes, target_categories, target_images, target_masks, target_metadata = target\n",
    "\n",
    "target_bounding_boxes = numpy.squeeze(target_bounding_boxes)\n",
    "\n",
    "target_images = numpy.squeeze(target_images)\n",
    "\n",
    "target_categories = numpy.argmax(target_categories, -1)\n",
    "\n",
    "target_categories = numpy.squeeze(target_categories)\n",
    "\n",
    "# keras_rcnn.utils.show_bounding_boxes(target_images, target_bounding_boxes, target_categories)\n",
    "\n",
    "\n",
    "\n",
    "            "
   ]
  },
  {
   "cell_type": "code",
   "execution_count": 3,
   "metadata": {
    "ExecuteTime": {
     "end_time": "2018-03-25T19:09:40.368336Z",
     "start_time": "2018-03-25T19:09:40.362758Z"
    },
    "collapsed": true
   },
   "outputs": [],
   "source": [
    "\n",
    "# To debug BB\n",
    "\n",
    "# for item in generator:\n",
    "#     generated, _ = item\n",
    "#     target_bounding_boxes, target_categories, target_images, target_masks, target_metadata = generated\n",
    "\n",
    "#     no_error = True\n",
    "#     for bbox in target_bounding_boxes[0]:\n",
    "#         #print(bbox)\n",
    "#         cmin, rmin, cmax, rmax = bbox\n",
    "#         #print(cmin, rmin, cmax, rmax)\n",
    "#         area = (cmax-cmin)*(rmax-rmin)\n",
    "#         if cmin == cmax or rmax == rmin:\n",
    "#             no_error = False\n",
    "#             print(bbox)\n",
    "#             print('error')\n",
    "\n"
   ]
  },
  {
   "cell_type": "code",
   "execution_count": 3,
   "metadata": {
    "ExecuteTime": {
     "end_time": "2018-03-26T08:58:55.307867Z",
     "start_time": "2018-03-26T08:58:52.872771Z"
    },
    "collapsed": true
   },
   "outputs": [],
   "source": [
    "model = keras_rcnn.models.RCNN((224, 224, 3), [\"nucleus\"])\n"
   ]
  },
  {
   "cell_type": "code",
   "execution_count": 19,
   "metadata": {
    "ExecuteTime": {
     "end_time": "2018-03-25T19:14:43.058378Z",
     "start_time": "2018-03-25T19:14:43.044329Z"
    }
   },
   "outputs": [
    {
     "name": "stderr",
     "output_type": "stream",
     "text": [
      "/home/eliotandres/incalia/keras-rcnn/keras_rcnn/models/_rcnn.py:285: UserWarning: Output \"object_detection_4\" missing from loss dictionary. We assume this was done on purpose, and we will not be expecting any data to be passed to \"object_detection_4\" during training.\n",
      "  super(RCNN, self).compile(optimizer, None)\n"
     ]
    }
   ],
   "source": [
    "optimizer = keras.optimizers.Adam(lr=0.001)\n",
    "\n",
    "model.compile(optimizer)"
   ]
  },
  {
   "cell_type": "code",
   "execution_count": 10,
   "metadata": {
    "ExecuteTime": {
     "end_time": "2018-03-25T13:36:08.180959Z",
     "start_time": "2018-03-25T13:36:08.172221Z"
    },
    "collapsed": true
   },
   "outputs": [],
   "source": [
    "callbacks = [ModelCheckpoint(monitor='loss',\n",
    "                                     filepath=os.path.join('weights', 'best.model'),\n",
    "                                     save_best_only=True,\n",
    "                                     save_weights_only=True)]"
   ]
  },
  {
   "cell_type": "code",
   "execution_count": null,
   "metadata": {
    "ExecuteTime": {
     "end_time": "2018-03-25T13:39:05.290155Z",
     "start_time": "2018-03-25T13:36:09.317034Z"
    }
   },
   "outputs": [],
   "source": [
    "model.fit_generator(\n",
    "    epochs=10,  \n",
    "    callbacks=callbacks,\n",
    "    generator=generator)"
   ]
  },
  {
   "cell_type": "code",
   "execution_count": 6,
   "metadata": {
    "ExecuteTime": {
     "end_time": "2018-03-26T08:59:35.964606Z",
     "start_time": "2018-03-26T08:59:35.735902Z"
    },
    "collapsed": true
   },
   "outputs": [],
   "source": [
    "model.load_weights('../weights/best.model')\n"
   ]
  },
  {
   "cell_type": "code",
   "execution_count": 7,
   "metadata": {
    "ExecuteTime": {
     "end_time": "2018-03-26T08:59:36.913773Z",
     "start_time": "2018-03-26T08:59:36.468333Z"
    }
   },
   "outputs": [
    {
     "name": "stderr",
     "output_type": "stream",
     "text": [
      "/root/anaconda3/lib/python3.6/site-packages/skimage/transform/_warps.py:84: UserWarning: The default mode, 'constant', will be changed to 'reflect' in skimage 0.15.\n",
      "  warn(\"The default mode, 'constant', will be changed to 'reflect' in \"\n"
     ]
    },
    {
     "data": {
      "image/png": "[encoded data removed]",
      "text/plain": [
       "<Figure size 432x288 with 1 Axes>"
      ]
     },
     "metadata": {},
     "output_type": "display_data"
    }
   ],
   "source": [
    "target, _ = generator.next()\n",
    "\n",
    "target_bounding_boxes, target_categories, target_images, target_masks, target_metadata = target\n",
    "bbox, categories = model.predict(target)\n",
    "keras_rcnn.utils.show_bounding_boxes(numpy.squeeze(target_images), numpy.squeeze(bbox), numpy.squeeze(categories))\n"
   ]
  },
  {
   "cell_type": "code",
   "execution_count": null,
   "metadata": {
    "collapsed": true
   },
   "outputs": [],
   "source": []
  }
 ],
 "metadata": {
  "kernelspec": {
   "display_name": "Python 3",
   "language": "python",
   "name": "python3"
  },
  "language_info": {
   "codemirror_mode": {
    "name": "ipython",
    "version": 3
   },
   "file_extension": ".py",
   "mimetype": "text/x-python",
   "name": "python",
   "nbconvert_exporter": "python",
   "pygments_lexer": "ipython3",
   "version": "3.6.1"
  }
 },
 "nbformat": 4,
 "nbformat_minor": 2
}
